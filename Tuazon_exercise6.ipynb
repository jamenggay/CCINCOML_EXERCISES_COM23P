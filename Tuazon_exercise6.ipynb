{
  "nbformat": 4,
  "nbformat_minor": 0,
  "metadata": {
    "colab": {
      "provenance": [],
      "collapsed_sections": [
        "FKj-F10WsctE"
      ],
      "include_colab_link": true
    },
    "kernelspec": {
      "name": "python3",
      "display_name": "Python 3"
    },
    "language_info": {
      "name": "python"
    }
  },
  "cells": [
    {
      "cell_type": "markdown",
      "metadata": {
        "id": "view-in-github",
        "colab_type": "text"
      },
      "source": [
        "<a href=\"https://colab.research.google.com/github/jamenggay/CCINCOML_EXERCISES_COM23P/blob/main/Tuazon_exercise6.ipynb\" target=\"_parent\"><img src=\"https://colab.research.google.com/assets/colab-badge.svg\" alt=\"Open In Colab\"/></a>"
      ]
    },
    {
      "cell_type": "markdown",
      "source": [
        "# Exercise 6"
      ],
      "metadata": {
        "id": "2YKNSy_M9wSB"
      }
    },
    {
      "cell_type": "markdown",
      "source": [
        "## Lists"
      ],
      "metadata": {
        "id": "waosO4TAeA-S"
      }
    },
    {
      "cell_type": "markdown",
      "source": [
        "1. Create a list\n",
        "\n",
        "- The name of the new list should be  `month`\n",
        "\n",
        "- The list should contain all the months in a year (January, February, March, April, May, June, July, August, September, October, November, December)"
      ],
      "metadata": {
        "id": "AW0H1ylt3H9g"
      }
    },
    {
      "cell_type": "code",
      "execution_count": 139,
      "metadata": {
        "id": "3a9CllzZ28_6"
      },
      "outputs": [],
      "source": [
        "# put your answer here\n",
        "months = ['January', 'February', 'March', 'April', 'May', 'June', 'July', 'August', 'September','October', 'November', 'December']\n"
      ]
    },
    {
      "cell_type": "markdown",
      "source": [
        "2. Display an element\n",
        "\n",
        "- Display the fourth element 'April' in the `month` list"
      ],
      "metadata": {
        "id": "lDgi4WMA3UDM"
      }
    },
    {
      "cell_type": "code",
      "source": [
        "# put your answer here\n",
        "months[3]"
      ],
      "metadata": {
        "id": "-K4Umghk34X3",
        "colab": {
          "base_uri": "https://localhost:8080/",
          "height": 35
        },
        "outputId": "d78837b5-23f2-4485-9b8c-5dd029b27ed5"
      },
      "execution_count": 140,
      "outputs": [
        {
          "output_type": "execute_result",
          "data": {
            "text/plain": [
              "'April'"
            ],
            "application/vnd.google.colaboratory.intrinsic+json": {
              "type": "string"
            }
          },
          "metadata": {},
          "execution_count": 140
        }
      ]
    },
    {
      "cell_type": "markdown",
      "source": [
        "3. Slice the list\n",
        "\n",
        "- Use slicing to get the last 4 months of the year of (September, October, November, December) of the `month` list"
      ],
      "metadata": {
        "id": "2sgJy-_C4N8b"
      }
    },
    {
      "cell_type": "code",
      "source": [
        "# put your answer here\n",
        "months[8:12]"
      ],
      "metadata": {
        "id": "xARijZmm4bp2",
        "colab": {
          "base_uri": "https://localhost:8080/"
        },
        "outputId": "db889c6c-9fec-4661-bdc1-05810bb26c48"
      },
      "execution_count": 142,
      "outputs": [
        {
          "output_type": "execute_result",
          "data": {
            "text/plain": [
              "['September', 'October', 'November', 'December']"
            ]
          },
          "metadata": {},
          "execution_count": 142
        }
      ]
    },
    {
      "cell_type": "markdown",
      "source": [
        "- Use slicing to get the first 4 months of the year (January, February, March, April) of the `month` list"
      ],
      "metadata": {
        "id": "ZNYReiVbp4qN"
      }
    },
    {
      "cell_type": "code",
      "source": [
        "# put your answer here\n",
        "months[0:4]"
      ],
      "metadata": {
        "id": "5QEm97VXp5Bi",
        "colab": {
          "base_uri": "https://localhost:8080/"
        },
        "outputId": "13dcd962-5b0a-494d-8c49-e8ecbfc47026"
      },
      "execution_count": 143,
      "outputs": [
        {
          "output_type": "execute_result",
          "data": {
            "text/plain": [
              "['January', 'February', 'March', 'April']"
            ]
          },
          "metadata": {},
          "execution_count": 143
        }
      ]
    },
    {
      "cell_type": "markdown",
      "source": [
        "4. List Methods\n",
        "\n",
        "- Get the size of the month list using the `len()` method"
      ],
      "metadata": {
        "id": "wZBoOGlh4zf9"
      }
    },
    {
      "cell_type": "code",
      "source": [
        "# put your answer here\n",
        "print(len(months))"
      ],
      "metadata": {
        "id": "0xoFuFFw48AX",
        "colab": {
          "base_uri": "https://localhost:8080/"
        },
        "outputId": "7db2926e-8ea3-43fc-aeec-6d177731f22d"
      },
      "execution_count": 144,
      "outputs": [
        {
          "output_type": "stream",
          "name": "stdout",
          "text": [
            "12\n"
          ]
        }
      ]
    },
    {
      "cell_type": "markdown",
      "source": [
        "- Get the element with the largest value of the month list using `max()`"
      ],
      "metadata": {
        "id": "P5bCjc8Xq4Fd"
      }
    },
    {
      "cell_type": "code",
      "source": [
        "# put your answer here\n",
        "print(max(months))"
      ],
      "metadata": {
        "id": "Yp3BmlEQq4k7",
        "colab": {
          "base_uri": "https://localhost:8080/"
        },
        "outputId": "e83d6e06-3a11-430f-97f6-c049a9ed8558"
      },
      "execution_count": 145,
      "outputs": [
        {
          "output_type": "stream",
          "name": "stdout",
          "text": [
            "September\n"
          ]
        }
      ]
    },
    {
      "cell_type": "markdown",
      "source": [
        "- Get the element with the smallest value of the month list using `min()`"
      ],
      "metadata": {
        "id": "dGXbdxgJq5HC"
      }
    },
    {
      "cell_type": "code",
      "source": [
        "# put your answer here\n",
        "print(min(months))"
      ],
      "metadata": {
        "id": "2CIePRDMq5aN",
        "colab": {
          "base_uri": "https://localhost:8080/"
        },
        "outputId": "48ece840-7024-473e-a5b4-e11ac23b7e81"
      },
      "execution_count": 146,
      "outputs": [
        {
          "output_type": "stream",
          "name": "stdout",
          "text": [
            "April\n"
          ]
        }
      ]
    },
    {
      "cell_type": "markdown",
      "source": [
        "- Sort the months of the year by alphabetical order using the `sorted()` function"
      ],
      "metadata": {
        "id": "rmnq1YbHta7L"
      }
    },
    {
      "cell_type": "code",
      "source": [
        "# put your answer here\n",
        "print(sorted(months))"
      ],
      "metadata": {
        "id": "EBB3CLFGtbKg",
        "colab": {
          "base_uri": "https://localhost:8080/"
        },
        "outputId": "1893a875-2a9b-4c7c-c3d6-b3c9e3a3d6ef"
      },
      "execution_count": 147,
      "outputs": [
        {
          "output_type": "stream",
          "name": "stdout",
          "text": [
            "['April', 'August', 'December', 'February', 'January', 'July', 'June', 'March', 'May', 'November', 'October', 'September']\n"
          ]
        }
      ]
    },
    {
      "cell_type": "code",
      "source": [],
      "metadata": {
        "id": "MooGbdW0HBoq"
      },
      "execution_count": null,
      "outputs": []
    },
    {
      "cell_type": "markdown",
      "source": [
        "## Tuple"
      ],
      "metadata": {
        "id": "R4Rkhy42sWQc"
      }
    },
    {
      "cell_type": "markdown",
      "source": [
        "1. Create a tuple with only three elements, the elements are:\n",
        "\n",
        "- Your month of birth in integers\n",
        "- Your day of birth in integers\n",
        "- Your year of birth in integers\n",
        "\n",
        "Use tuple unpacking to directly assign the month, day, year variable to each elements in your tuple."
      ],
      "metadata": {
        "id": "0qdb8lX53Iux"
      }
    },
    {
      "cell_type": "code",
      "source": [
        "# put your answer here\n",
        "birthday = (12, 27, 2004)\n",
        "(month, day, year) = birthday\n",
        "\n",
        "print(month)\n",
        "print(day)\n",
        "print(year)"
      ],
      "metadata": {
        "id": "E14Lb0Y0wwzL",
        "colab": {
          "base_uri": "https://localhost:8080/"
        },
        "outputId": "51051eb7-923e-4d25-d351-94dd92cae532"
      },
      "execution_count": 151,
      "outputs": [
        {
          "output_type": "stream",
          "name": "stdout",
          "text": [
            "12\n",
            "27\n",
            "2004\n"
          ]
        }
      ]
    },
    {
      "cell_type": "markdown",
      "source": [
        "## Set\n"
      ],
      "metadata": {
        "id": "pqgIEqbksah2"
      }
    },
    {
      "cell_type": "markdown",
      "source": [
        "1. The list below contains a number of a products of a computer store. Notice that there are duplicate values."
      ],
      "metadata": {
        "id": "PxFhHDRg2zXs"
      }
    },
    {
      "cell_type": "code",
      "source": [
        "products = [\"laptop\", \"smartphone\", \"tablet\", \"mouse\" ,\"powerbank\", \"headphones\", \"laptop\", \"speakers\", \"printer\", \"monitor\", \"projector\", \"mouse\", \"keyboard\"]"
      ],
      "metadata": {
        "id": "WXYdz82fxpdU"
      },
      "execution_count": 148,
      "outputs": []
    },
    {
      "cell_type": "markdown",
      "source": [
        "The difference between a list and a set is that a list allows duplicate values. One way to remove duplicates is to convert a list into a set.\n",
        "\n",
        "Convert the `products` list into a set"
      ],
      "metadata": {
        "id": "vr-5xd3f2Vgn"
      }
    },
    {
      "cell_type": "code",
      "source": [
        "# put your answer here\n",
        "revised_products = set(products)\n",
        "print(revised_products)"
      ],
      "metadata": {
        "id": "Z_Ao388J2f50",
        "colab": {
          "base_uri": "https://localhost:8080/"
        },
        "outputId": "11452bb8-a3d5-441a-acc5-523c6f4e0dce"
      },
      "execution_count": 38,
      "outputs": [
        {
          "output_type": "stream",
          "name": "stdout",
          "text": [
            "{'printer', 'projector', 'headphones', 'tablet', 'mouse', 'smartphone', 'powerbank', 'monitor', 'laptop', 'speakers', 'keyboard'}\n"
          ]
        }
      ]
    },
    {
      "cell_type": "markdown",
      "source": [],
      "metadata": {
        "id": "5cllX49nKPlH"
      }
    },
    {
      "cell_type": "markdown",
      "source": [
        "2. Verify if \"headphones\" exists in the `products` set  using the `in` operator"
      ],
      "metadata": {
        "id": "d9fOZL4g3a9t"
      }
    },
    {
      "cell_type": "markdown",
      "source": [],
      "metadata": {
        "id": "41IPjPBXJghf"
      }
    },
    {
      "cell_type": "code",
      "source": [
        "# put your answer here\n",
        "print(\"headphones\" in products)"
      ],
      "metadata": {
        "id": "ETJJFv-u3b23",
        "colab": {
          "base_uri": "https://localhost:8080/"
        },
        "outputId": "ee064c65-60b6-49b2-908c-b6308b6b2999"
      },
      "execution_count": 33,
      "outputs": [
        {
          "output_type": "stream",
          "name": "stdout",
          "text": [
            "True\n"
          ]
        }
      ]
    },
    {
      "cell_type": "markdown",
      "source": [
        "## Dictionaries"
      ],
      "metadata": {
        "id": "FKj-F10WsctE"
      }
    },
    {
      "cell_type": "markdown",
      "source": [
        "1. Create a dictionary of your favorites\n",
        "\n",
        "- Keys should be the type\n",
        "- Values should be the sample from that type\n",
        "\n",
        "Example:\n",
        "\n",
        "food: friedchicken\n",
        "\n",
        "color: blue\n",
        "\n",
        "sport: badminton\n",
        "\n",
        "drink: mangojuice\n",
        "\n",
        "dessert: cheesetart\n"
      ],
      "metadata": {
        "id": "71KOC3D94P7m"
      }
    },
    {
      "cell_type": "code",
      "source": [
        "# put your answer here\n",
        "favorites = {\"Movie\": \"The Midnight Sun\", \"American Series\": \"Grey's Anatomy\", \"Book\": \"The Inheritance Game\", \"Food\": \"Pasta\", \"Drinks\": \"Coffee\" }\n",
        "print(favorites[\"Movie\"])\n",
        "print(favorites[\"American Series\"])\n",
        "print(favorites[\"Book\"])\n",
        "print(favorites[\"Food\"])\n",
        "print(favorites[\"Drinks\"])"
      ],
      "metadata": {
        "id": "8lrrq4xT3Zww",
        "colab": {
          "base_uri": "https://localhost:8080/"
        },
        "outputId": "263e4489-b76b-40b5-a218-e81da08ebffa"
      },
      "execution_count": 43,
      "outputs": [
        {
          "output_type": "stream",
          "name": "stdout",
          "text": [
            "The Midnight Sun\n",
            "Grey's Anatomy\n",
            "The Inheritance Game\n",
            "Pasta\n",
            "Coffee\n"
          ]
        }
      ]
    },
    {
      "cell_type": "markdown",
      "source": [
        "## Loops"
      ],
      "metadata": {
        "id": "cbsI1vwD1nI7"
      }
    },
    {
      "cell_type": "markdown",
      "source": [
        "1. Write a for loop to iterate all elements of the `month` list. Print each element for every iteration."
      ],
      "metadata": {
        "id": "VV429-WhDmzU"
      }
    },
    {
      "cell_type": "code",
      "source": [
        "# put your answer here\n",
        "months = ['January', 'February', 'March', 'April', 'May', 'June', 'July', 'August', 'September','October', 'November', 'December']\n",
        "for month in months:\n",
        "  print(month)\n",
        ""
      ],
      "metadata": {
        "id": "Ki5-XrM_DnNp",
        "colab": {
          "base_uri": "https://localhost:8080/"
        },
        "outputId": "5d0419a9-37c2-4168-aa26-370923f800b7"
      },
      "execution_count": 44,
      "outputs": [
        {
          "output_type": "stream",
          "name": "stdout",
          "text": [
            "January\n",
            "February\n",
            "March\n",
            "April\n",
            "May\n",
            "June\n",
            "July\n",
            "August\n",
            "September\n",
            "October\n",
            "November\n",
            "December\n"
          ]
        }
      ]
    },
    {
      "cell_type": "markdown",
      "source": [
        "2. Write a for loop and add a condition to only display the elements in the `month` list that ends with \"ber\""
      ],
      "metadata": {
        "id": "XaezrcWxEEQd"
      }
    },
    {
      "cell_type": "code",
      "source": [
        "# put your answer here\n",
        "\n",
        "for month in months:\n",
        "\n",
        "  if month.find('ber')>0:\n",
        "    print(month)\n",
        "\n",
        ""
      ],
      "metadata": {
        "id": "LR4utW6rEEm1",
        "colab": {
          "base_uri": "https://localhost:8080/"
        },
        "outputId": "6b0fdb41-119e-4b2a-959a-35f95fa94d15"
      },
      "execution_count": 86,
      "outputs": [
        {
          "output_type": "stream",
          "name": "stdout",
          "text": [
            "September\n",
            "October\n",
            "November\n",
            "December\n"
          ]
        }
      ]
    },
    {
      "cell_type": "markdown",
      "source": [
        "3. Write a for loop and add a condition to only display the elements in the `month` list that does not end with \"ber\""
      ],
      "metadata": {
        "id": "WcBRUEaFFHWf"
      }
    },
    {
      "cell_type": "code",
      "source": [
        "# put your answer here\n",
        "for month in months:\n",
        "\n",
        "  if month.find('ber')<0:\n",
        "    print(month)"
      ],
      "metadata": {
        "id": "Bw5D0HLNFHrs",
        "colab": {
          "base_uri": "https://localhost:8080/"
        },
        "outputId": "dc6c75e3-0580-4958-a5e3-3e13e679eadf"
      },
      "execution_count": 87,
      "outputs": [
        {
          "output_type": "stream",
          "name": "stdout",
          "text": [
            "January\n",
            "February\n",
            "March\n",
            "April\n",
            "May\n",
            "June\n",
            "July\n",
            "August\n"
          ]
        }
      ]
    },
    {
      "cell_type": "markdown",
      "source": [
        "4. Write a for loop and use `range()` to display your firstname five times"
      ],
      "metadata": {
        "id": "gpvQU9hfF0TF"
      }
    },
    {
      "cell_type": "code",
      "source": [
        "# put your answer here\n",
        "for x in range(5):\n",
        "  print(\"Jamaine\")"
      ],
      "metadata": {
        "id": "o-NhO5_nF0hN",
        "colab": {
          "base_uri": "https://localhost:8080/"
        },
        "outputId": "70864fc8-16b6-4ac2-bee9-8f244a0cc7bd"
      },
      "execution_count": 88,
      "outputs": [
        {
          "output_type": "stream",
          "name": "stdout",
          "text": [
            "Jamaine\n",
            "Jamaine\n",
            "Jamaine\n",
            "Jamaine\n",
            "Jamaine\n"
          ]
        }
      ]
    },
    {
      "cell_type": "markdown",
      "source": [
        "5. Write a for loop that iterates over the names list to create a usernames list.\n",
        "\n",
        "To create a username for each name, make everything lowercase and replace spaces with underscores. Running your for loop over the list:\n",
        "\n",
        "Example:\n",
        "\n",
        "names = [\"Joey Tribbiani\", \"Monica Geller\", \"Chandler Bing\", \"Phoebe Buffay\"]\n",
        "\n",
        "should create a new list\n",
        "\n",
        "usernames = [\"joey_tribbiani\", \"monica_geller\", \"chandler_bing\", \"phoebe_buffay\"]"
      ],
      "metadata": {
        "id": "VLcFGqI9GUic"
      }
    },
    {
      "cell_type": "code",
      "source": [
        "# put your answer here\n",
        "names = [\"Joey Tribbiani\", \"Monica Geller\", \"Chandler Bing\", \"Phoebe Buffay\"]\n",
        "usernames = []\n",
        "\n",
        "for x in names:\n",
        "  usernames.append(x.lower().replace(' ', '_'))\n",
        "print (usernames)"
      ],
      "metadata": {
        "id": "IqqiHcX_GUzw",
        "colab": {
          "base_uri": "https://localhost:8080/"
        },
        "outputId": "52397fef-61e8-4e6f-dd06-1c0f33ad3cf7"
      },
      "execution_count": 106,
      "outputs": [
        {
          "output_type": "stream",
          "name": "stdout",
          "text": [
            "['joey_tribbiani', 'monica_geller', 'chandler_bing', 'phoebe_buffay']\n"
          ]
        }
      ]
    },
    {
      "cell_type": "markdown",
      "source": [
        "6. Write a while loop to iterate throught the `month` list\n",
        "\n",
        "- Break the loop if the element ends with \"ber\""
      ],
      "metadata": {
        "id": "6OPeRpAtI10D"
      }
    },
    {
      "cell_type": "code",
      "source": [
        "for month in months:\n",
        "  print(month)\n",
        "  if month.find('ber')>0:\n",
        "    break"
      ],
      "metadata": {
        "id": "0sDyOhMXI2TX",
        "colab": {
          "base_uri": "https://localhost:8080/"
        },
        "outputId": "dbf4c561-f7da-4d38-8e9d-0100ae40e223"
      },
      "execution_count": 114,
      "outputs": [
        {
          "output_type": "stream",
          "name": "stdout",
          "text": [
            "January\n",
            "February\n",
            "March\n",
            "April\n",
            "May\n",
            "June\n",
            "July\n",
            "August\n",
            "September\n"
          ]
        }
      ]
    },
    {
      "cell_type": "markdown",
      "source": [
        "## Functions"
      ],
      "metadata": {
        "id": "-UGI_QgO1h07"
      }
    },
    {
      "cell_type": "markdown",
      "source": [
        "1. Write a python function named population_density that takes two arguments, population and land_area, and returns a population density calculated from those values.\n",
        "\n",
        "The population density can be calculated using this formula:\n",
        "\n",
        "population_density = population/land_area"
      ],
      "metadata": {
        "id": "f4bjOx-C1jar"
      }
    },
    {
      "cell_type": "code",
      "source": [
        "# put your answer here\n",
        "def population_density(population, land_area):\n",
        "  return population / land_area\n",
        "\n",
        "print(\"Population Density is \" + str(population_density(100, 5)))\n"
      ],
      "metadata": {
        "id": "GJVkPniMLD82",
        "colab": {
          "base_uri": "https://localhost:8080/"
        },
        "outputId": "fe8750e7-13b5-47eb-fd5d-8dc5a1a1348e"
      },
      "execution_count": 121,
      "outputs": [
        {
          "output_type": "stream",
          "name": "stdout",
          "text": [
            "Population Density is 20.0\n"
          ]
        }
      ]
    },
    {
      "cell_type": "markdown",
      "source": [
        "2. Write an `averagesteps()` function to compute the average the number of steps you take every day.\n",
        "\n",
        "- The function should accept a list and compute the average of all elements inside the list\n",
        "\n",
        "- Create a list with seven elements. The values in the list are your average steps your take everyday.\n",
        "\n",
        "- Pass the list to the function and call the function"
      ],
      "metadata": {
        "id": "DEryE1965T3U"
      }
    },
    {
      "cell_type": "code",
      "source": [
        "# put your answer here\n",
        "steplist = [200, 300, 250, 150, 350, 100, 120]\n",
        "\n",
        "def averagestep(mylist):\n",
        "  sum = 0\n",
        "  for x in mylist:\n",
        "    sum = sum + x\n",
        "\n",
        "  return sum / 7\n",
        "\n",
        "\n",
        "averagestep(steplist)"
      ],
      "metadata": {
        "id": "TzhnugYU6D-6",
        "colab": {
          "base_uri": "https://localhost:8080/"
        },
        "outputId": "bd90386d-4ce9-4687-bd76-e0b7c8c2abd8"
      },
      "execution_count": 150,
      "outputs": [
        {
          "output_type": "execute_result",
          "data": {
            "text/plain": [
              "210.0"
            ]
          },
          "metadata": {},
          "execution_count": 150
        }
      ]
    }
  ]
}