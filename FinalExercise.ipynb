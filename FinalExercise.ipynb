{
  "nbformat": 4,
  "nbformat_minor": 0,
  "metadata": {
    "colab": {
      "provenance": [],
      "include_colab_link": true
    },
    "kernelspec": {
      "name": "python3",
      "display_name": "Python 3"
    },
    "language_info": {
      "name": "python"
    }
  },
  "cells": [
    {
      "cell_type": "markdown",
      "metadata": {
        "id": "view-in-github",
        "colab_type": "text"
      },
      "source": [
        "<a href=\"https://colab.research.google.com/github/jamenggay/CCINCOML_EXERCISES_COM23P/blob/main/FinalExercise.ipynb\" target=\"_parent\"><img src=\"https://colab.research.google.com/assets/colab-badge.svg\" alt=\"Open In Colab\"/></a>"
      ]
    },
    {
      "cell_type": "markdown",
      "source": [
        "# Final Exercise 🌹\n",
        "\n",
        "Please follow the instructions!\n",
        "\n",
        "<img src=\"https://i.pinimg.com/originals/80/db/e7/80dbe7a37ca3ea65ecac8dace1b599cc.gif\"/>"
      ],
      "metadata": {
        "id": "1lyup4WJ0U88"
      }
    },
    {
      "cell_type": "markdown",
      "source": [
        "1. Create a list called `myname` that contains the characters of your first name"
      ],
      "metadata": {
        "id": "TNpD9hmk4_N-"
      }
    },
    {
      "cell_type": "code",
      "source": [
        "# put your answer here\n",
        "myname = ['J', 'A', 'M', 'A', 'I', 'N','E']"
      ],
      "metadata": {
        "id": "bpXg-iQt4-sQ",
        "colab": {
          "base_uri": "https://localhost:8080/",
          "height": 35
        },
        "outputId": "52b23343-1dc9-4ce9-828c-f4e284f51b62"
      },
      "execution_count": 1,
      "outputs": [
        {
          "output_type": "execute_result",
          "data": {
            "text/plain": [
              "'J'"
            ],
            "application/vnd.google.colaboratory.intrinsic+json": {
              "type": "string"
            }
          },
          "metadata": {},
          "execution_count": 1
        }
      ]
    },
    {
      "cell_type": "markdown",
      "source": [
        "2. Create a list called `mynumber` that contains all the numbers of your student number"
      ],
      "metadata": {
        "id": "iorlqXkq5FgY"
      }
    },
    {
      "cell_type": "code",
      "source": [
        "# put your answer here\n",
        "mynumber = [2, 0, 2, 3, 1, 0, 1, 9, 8, 4]"
      ],
      "metadata": {
        "id": "JciPeaYr49B7"
      },
      "execution_count": 80,
      "outputs": []
    },
    {
      "cell_type": "markdown",
      "source": [
        "3. Write a python function named `geteven()` that will:\n",
        "\n",
        "- Accept a list of your student number\n",
        "- Return a list with only even numbers\n",
        "\n",
        "-------------------------------------\n",
        "\n",
        "Example:\n",
        "\n",
        "mynumber = [2,0,2,3,1,2,3,4,5,6]\n",
        "\n",
        "geteven(mynumber)\n",
        "\n",
        "Output should be:\n",
        "\n",
        "[2,0,2,2,4,6]"
      ],
      "metadata": {
        "id": "yQ2wZKD-0X7_"
      }
    },
    {
      "cell_type": "code",
      "execution_count": 74,
      "metadata": {
        "id": "9HUAAC9h0Tu6",
        "colab": {
          "base_uri": "https://localhost:8080/"
        },
        "outputId": "949cb553-ddc5-4ad9-c2bb-c849bb684116"
      },
      "outputs": [
        {
          "output_type": "execute_result",
          "data": {
            "text/plain": [
              "[2, 0, 2, 0, 8, 4]"
            ]
          },
          "metadata": {},
          "execution_count": 74
        }
      ],
      "source": [
        "# put your answer here\n",
        "mynumber = [2, 0, 2, 3, 1, 0, 1, 9, 8, 4]\n",
        "def geteven(myList1):\n",
        "    even = []\n",
        "    for x in myList1:\n",
        "      if x%2 == 0:\n",
        "        even.append(x)\n",
        "    return even\n",
        "\n",
        "geteven(mynumber)"
      ]
    },
    {
      "cell_type": "markdown",
      "source": [
        "4. Write a python function named `reverseName()` that will:\n",
        "\n",
        "- Accept a list of your name\n",
        "- Return a list of your name in reverse order\n",
        "\n",
        "-------------------------------------\n",
        "\n",
        "Example:\n",
        "\n",
        "myname = ['E', 'L', 'I', 'Z', 'E', 'R']\n",
        "\n",
        "reverseName(myname)\n",
        "\n",
        "Output should be:\n",
        "\n",
        "['R', 'E', 'Z', 'I', 'L', 'E']"
      ],
      "metadata": {
        "id": "51HBYD8V0agR"
      }
    },
    {
      "cell_type": "code",
      "source": [
        "# put your answer here\n",
        "myname = ['J', 'A', 'M', 'A', 'I', 'N','E']\n",
        "\n",
        "def reverseName(myList2):\n",
        "  myList2.reverse()\n",
        "  return myList2\n",
        "\n",
        "reverseName(myname)\n"
      ],
      "metadata": {
        "id": "cwtaNJcc0a1o",
        "colab": {
          "base_uri": "https://localhost:8080/"
        },
        "outputId": "bbb3e236-e236-44e1-8361-43baad7a40ee"
      },
      "execution_count": 77,
      "outputs": [
        {
          "output_type": "execute_result",
          "data": {
            "text/plain": [
              "['E', 'N', 'I', 'A', 'M', 'A', 'J']"
            ]
          },
          "metadata": {},
          "execution_count": 77
        }
      ]
    },
    {
      "cell_type": "markdown",
      "source": [
        "5. Write a python function named `countVowel()` that will:\n",
        "\n",
        "- Accept a list of your name\n",
        "- Return the number of vowels of your name in the list\n",
        "\n",
        "-------------------------------------\n",
        "\n",
        "Example:\n",
        "\n",
        "myname = ['E', 'L', 'I', 'Z', 'E', 'R']\n",
        "\n",
        "countVowel(myname)\n",
        "\n",
        "Output should be:\n",
        "\n",
        "3"
      ],
      "metadata": {
        "id": "z98DkSZj0bKE"
      }
    },
    {
      "cell_type": "code",
      "source": [
        "# put your answer here\n",
        "myname = ['J', 'A', 'M', 'A', 'I', 'N','E']\n",
        "\n",
        "def countVowel(myList3):\n",
        "  vowels = ['A', 'E', 'I', 'O', 'U']\n",
        "  x = 0\n",
        "  for i in myList3:\n",
        "    if i in vowels:\n",
        "      x=x+1\n",
        "  return x\n",
        "\n",
        "countVowel(myname)\n"
      ],
      "metadata": {
        "id": "djNZGq0P0bft",
        "colab": {
          "base_uri": "https://localhost:8080/"
        },
        "outputId": "bfaae869-37c6-46a7-e6ab-bfe853200418"
      },
      "execution_count": 79,
      "outputs": [
        {
          "output_type": "execute_result",
          "data": {
            "text/plain": [
              "4"
            ]
          },
          "metadata": {},
          "execution_count": 79
        }
      ]
    },
    {
      "cell_type": "markdown",
      "source": [
        "## Farewell note\n",
        "\n",
        "It has been a pleasure to teach you this term even for a short period of time.\n",
        "\n",
        "I know that not all people like computer programming but please give it more time for you to find a place in your heart ❤️\n",
        "\n",
        "From my experience, people tend to learn skills when they need it and not when they want to. It is very hard to learn any skill if you do not have any use for it.\n",
        "\n",
        "The challenge for us educators is to show the next generation that programming is a very important skill and that the world needs people like you.\n",
        "\n",
        "Programming is a very fulfilling profession because you can solve the world's problems through your own creativity and passion.\n",
        "\n",
        "I hope that you can find your own purpose in life through programming and make our world a better place 🌎\n",
        "\n",
        "Your teacher,\n",
        "\n",
        "Elizer Ponio Jr."
      ],
      "metadata": {
        "id": "7YuM6TiO8Tsj"
      }
    }
  ]
}